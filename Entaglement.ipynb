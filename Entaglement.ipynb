{
 "cells": [
  {
   "cell_type": "code",
   "execution_count": 19,
   "id": "governmental-method",
   "metadata": {},
   "outputs": [
    {
     "data": {
      "text/html": [
       "<pre style=\"word-wrap: normal;white-space: pre;background: #fff0;line-height: 1.1;font-family: &quot;Courier New&quot;,Courier,monospace\">     ┌───┐     ┌─┐   \n",
       "q_0: ┤ H ├──■──┤M├───\n",
       "     └───┘┌─┴─┐└╥┘┌─┐\n",
       "q_1: ─────┤ X ├─╫─┤M├\n",
       "          └───┘ ║ └╥┘\n",
       "c: 2/═══════════╩══╩═\n",
       "                0  1 </pre>"
      ],
      "text/plain": [
       "     ┌───┐     ┌─┐   \n",
       "q_0: ┤ H ├──■──┤M├───\n",
       "     └───┘┌─┴─┐└╥┘┌─┐\n",
       "q_1: ─────┤ X ├─╫─┤M├\n",
       "          └───┘ ║ └╥┘\n",
       "c: 2/═══════════╩══╩═\n",
       "                0  1 "
      ]
     },
     "execution_count": 19,
     "metadata": {},
     "output_type": "execute_result"
    }
   ],
   "source": [
    "#Generating entanglement\n",
    "\n",
    "from qiskit import QuantumCircuit, QuantumRegister, ClassicalRegister\n",
    "from qiskit import Aer, execute\n",
    "from qiskit.tools.visualization import plot_histogram\n",
    "\n",
    "qr = QuantumRegister(2, 'q')  #two qubit quantum register\n",
    "cr = ClassicalRegister(2, 'c') #two qubit classical register\n",
    "\n",
    "circuit = QuantumCircuit(qr, cr)\n",
    "circuit.h(qr[0])  #apply Hadamard gate to the first qubit\n",
    "circuit.cx(qr[0], qr[1])  #apply control x gate, qubit 0 is control and qubit 1 is the target\n",
    "circuit.measure(qr, cr)  #measure the output\n",
    "circuit.draw()  #draw the circuit\n"
   ]
  },
  {
   "cell_type": "code",
   "execution_count": 21,
   "id": "viral-international",
   "metadata": {},
   "outputs": [
    {
     "data": {
      "image/png": "[encoded data removed]",
      "text/plain": [
       "<Figure size 504x360 with 1 Axes>"
      ]
     },
     "execution_count": 21,
     "metadata": {},
     "output_type": "execute_result"
    }
   ],
   "source": [
    "simulator = Aer.get_backend('qasm_simulator')  #using QASM simulator to simulate the result\n",
    "execute(circuit, backend = simulator)  #submit quantum circuit to backend\n",
    "result = execute(circuit, backend = simulator).result()  #storing result after simulation\n",
    "plot_histogram(result.get_counts(circuit))  #histogram plot for the result"
   ]
  },
  {
   "cell_type": "code",
   "execution_count": null,
   "id": "metric-advertiser",
   "metadata": {},
   "outputs": [],
   "source": []
  }
 ],
 "metadata": {
  "kernelspec": {
   "display_name": "Python 3",
   "language": "python",
   "name": "python3"
  },
  "language_info": {
   "codemirror_mode": {
    "name": "ipython",
    "version": 3
   },
   "file_extension": ".py",
   "mimetype": "text/x-python",
   "name": "python",
   "nbconvert_exporter": "python",
   "pygments_lexer": "ipython3",
   "version": "3.8.10"
  }
 },
 "nbformat": 4,
 "nbformat_minor": 5
}
