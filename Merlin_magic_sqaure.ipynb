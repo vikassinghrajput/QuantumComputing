{
 "cells": [
  {
   "cell_type": "code",
   "execution_count": 1,
   "id": "organic-timber",
   "metadata": {},
   "outputs": [],
   "source": [
    "import numpy as np"
   ]
  },
  {
   "cell_type": "code",
   "execution_count": 2,
   "id": "ethical-balloon",
   "metadata": {},
   "outputs": [
    {
     "name": "stdout",
     "output_type": "stream",
     "text": [
      "First matrix:\n",
      " [[0 0 0]\n",
      " [1 1 0]\n",
      " [1 0 1]]\n",
      "Second matrix:\n",
      " [[1 0 0]\n",
      " [1 1 0]\n",
      " [0 1 0]]\n",
      "Third matrix:\n",
      " [[1 0 1]\n",
      " [1 0 0]\n",
      " [0 1 0]]\n",
      "Goal:\n",
      " [[0 0 0]\n",
      " [0 1 0]\n",
      " [0 0 0]]\n"
     ]
    }
   ],
   "source": [
    "my_matrix = np.array([[0, 0, 0], [1, 1, 0], [1, 0, 1]])  #Initial matrix\n",
    "second_matrix = np.array([[1, 0, 0], [1, 1, 0], [0, 1, 0]])\n",
    "third_matrix = np.array([[1, 0, 1], [1, 0, 0], [0, 1, 0]])\n",
    "final_matrix = np.array([[0, 0, 0], [0, 1, 0], [0, 0, 0]])  #Final matrix which needs to obtain as a result\n",
    "print(\"First matrix:\\n\", my_matrix)\n",
    "print(\"Second matrix:\\n\", second_matrix)\n",
    "print(\"Third matrix:\\n\", third_matrix)\n",
    "print(\"Goal:\\n\", final_matrix)"
   ]
  },
  {
   "cell_type": "code",
   "execution_count": 3,
   "id": "korean-plate",
   "metadata": {},
   "outputs": [],
   "source": [
    "#Function for matrix omparison\n",
    "def compare(arr1, arr2):\n",
    "    \n",
    "    x = arr1 == arr2\n",
    "    return x.all()\n",
    "\n",
    "#Function to toggle the values\n",
    "def toggle(value):\n",
    "    \n",
    "    if(value == 1):\n",
    "        value = 0\n",
    "    else:\n",
    "        value = 1\n",
    "        \n",
    "    return value"
   ]
  },
  {
   "cell_type": "code",
   "execution_count": 4,
   "id": "contemporary-algeria",
   "metadata": {},
   "outputs": [],
   "source": [
    "def magic_square(arr, row, col):\n",
    "    \n",
    "    k = row\n",
    "    l = col\n",
    " \n",
    "    if(k == 0 and l == 0):\n",
    "        arr[k][l] = toggle(arr[k][l])\n",
    "        arr[k+1][l] = toggle(arr[k+1][l])\n",
    "        arr[k][l+1] = toggle(arr[k][l+1])\n",
    "        arr[k+1][l+1] = toggle(arr[k+1][l+1])\n",
    "\n",
    "    elif(k == 0 and l == 2):\n",
    "        arr[k][l] = toggle(arr[k][l])\n",
    "        arr[k][l-1] = toggle(arr[k][l-1])\n",
    "        arr[k+1][l] = toggle(arr[k+1][l])\n",
    "        arr[k+1][l-1] = toggle(arr[k+1][l-1])\n",
    "\n",
    "    elif(k == 2 and l == 0):\n",
    "        arr[k][l] = toggle(arr[k][l])\n",
    "        arr[k-1][l] = toggle(arr[k-1][l])\n",
    "        arr[k][l+1] = toggle(arr[k][l+1])\n",
    "        arr[k-1][l+1] = toggle(arr[k-1][l+1])\n",
    "\n",
    "    elif(k == 2 and l == 2):\n",
    "        arr[k][l] = toggle(arr[k][l])\n",
    "        arr[k][l-1] = toggle(arr[k][l-1])\n",
    "        arr[k-1][l] = toggle(arr[k-1][l])\n",
    "        arr[k-1][l-1] = toggle(arr[k-1][l-1])\n",
    "\n",
    "    elif((k == 0 and l==1) or (k == 2 and l==1)):\n",
    "        arr[k][l] = toggle(arr[k][l])\n",
    "        arr[k][l+1] = toggle(arr[k][l+1])\n",
    "        arr[k][l-1] = toggle(arr[k][l-1])\n",
    "\n",
    "    elif((k == 1 and l==0) or (k == 1 and l==2)):\n",
    "        arr[k][l] = toggle(arr[k][l])\n",
    "        arr[k+1][l] = toggle(arr[k+1][l])\n",
    "        arr[k-1][l] = toggle(arr[k-1][l])\n",
    "\n",
    "    elif(k == 1 and l==1):\n",
    "        arr[k][l] = toggle(arr[k][l])\n",
    "        arr[k][l+1] = toggle(arr[k][l+1])\n",
    "        arr[k][l-1] = toggle(arr[k][l-1])\n",
    "        arr[k+1][l] = toggle(arr[k+1][l])\n",
    "        arr[k-1][l] = toggle(arr[k-1][l])\n",
    "        \n",
    "    else:\n",
    "        print(\"Enter the correct values or rows and columns\")\n",
    "                \n",
    "    return arr\n",
    "\n",
    "N = 3\n",
    "M = 3"
   ]
  },
  {
   "cell_type": "code",
   "execution_count": 5,
   "id": "incomplete-affair",
   "metadata": {},
   "outputs": [],
   "source": [
    "def game_run(input_matrix, result_matrix):\n",
    "    \n",
    "    n = 0\n",
    "    mat = input_matrix\n",
    "    result_mat = result_matrix\n",
    "    result = compare(mat, result_mat)\n",
    "    while result==False:\n",
    "        print(mat)\n",
    "        print(\"Choose the box of matrix by providing values of row and column.\")\n",
    "        row, col = input(\"Enter the value of row and then column (0-2):\").split()\n",
    "        row = int(row)\n",
    "        col = int(col)\n",
    "        print(\"The selected values for row and column:\", row, col)\n",
    "        mat = magic_square(mat, row, col)\n",
    "        n +=1\n",
    "        result = compare(mat, result_mat)\n",
    "\n",
    "        if(n > 1000):\n",
    "            print(\"The number of iterations exceeds.\")\n",
    "            print(\"Final matrix:\", mat)\n",
    "            break\n",
    "\n",
    "    print(\"The matrix is equal to the final matrix:\", mat)\n",
    "    print(\"Number of iteration: \", n)"
   ]
  },
  {
   "cell_type": "code",
   "execution_count": 6,
   "id": "particular-uzbekistan",
   "metadata": {},
   "outputs": [
    {
     "name": "stdin",
     "output_type": "stream",
     "text": [
      "Choose the matrix to play with(enter 1,2 or 3):\n",
      " 2\n"
     ]
    },
    {
     "name": "stdout",
     "output_type": "stream",
     "text": [
      "Matrix 2 has been selected:\n",
      " [[1 0 0]\n",
      " [1 1 0]\n",
      " [0 1 0]]\n"
     ]
    }
   ],
   "source": [
    "select = input(\"Choose the matrix to play with(enter 1,2 or 3):\\n\")\n",
    "select = int(select)\n",
    "\n",
    "if(select == 1):\n",
    "    selected_matrix = my_matrix\n",
    "    print(\"Matrix 1 has been selected:\\n\", selected_matrix)\n",
    "elif(select == 2):\n",
    "    selected_matrix = second_matrix\n",
    "    print(\"Matrix 2 has been selected:\\n\", selected_matrix)\n",
    "elif(select == 3):\n",
    "    selected_matrix = third_matrix\n",
    "    print(\"Matrix 3 has been selected:\\n\", selected_matrix)\n",
    "else:\n",
    "    print(\"Invalid selection!\")\n",
    "    print(\"Program terminating!\")"
   ]
  },
  {
   "cell_type": "code",
   "execution_count": 7,
   "id": "editorial-hepatitis",
   "metadata": {},
   "outputs": [
    {
     "name": "stdout",
     "output_type": "stream",
     "text": [
      "Matrix has been selected\n",
      "[[1 0 0]\n",
      " [1 1 0]\n",
      " [0 1 0]]\n",
      "Choose the box of matrix by providing values of row and column.\n"
     ]
    },
    {
     "name": "stdin",
     "output_type": "stream",
     "text": [
      "Enter the value of row and then column (0-2): 2 2\n"
     ]
    },
    {
     "name": "stdout",
     "output_type": "stream",
     "text": [
      "The selected values for row and column: 2 2\n",
      "[[1 0 0]\n",
      " [1 0 1]\n",
      " [0 0 1]]\n",
      "Choose the box of matrix by providing values of row and column.\n"
     ]
    },
    {
     "name": "stdin",
     "output_type": "stream",
     "text": [
      "Enter the value of row and then column (0-2): 1 2\n"
     ]
    },
    {
     "name": "stdout",
     "output_type": "stream",
     "text": [
      "The selected values for row and column: 1 2\n",
      "[[1 0 1]\n",
      " [1 0 0]\n",
      " [0 0 0]]\n",
      "Choose the box of matrix by providing values of row and column.\n"
     ]
    },
    {
     "name": "stdin",
     "output_type": "stream",
     "text": [
      "Enter the value of row and then column (0-2): 1 0\n"
     ]
    },
    {
     "name": "stdout",
     "output_type": "stream",
     "text": [
      "The selected values for row and column: 1 0\n",
      "[[0 0 1]\n",
      " [0 0 0]\n",
      " [1 0 0]]\n",
      "Choose the box of matrix by providing values of row and column.\n"
     ]
    },
    {
     "name": "stdin",
     "output_type": "stream",
     "text": [
      "Enter the value of row and then column (0-2): 0 2\n"
     ]
    },
    {
     "name": "stdout",
     "output_type": "stream",
     "text": [
      "The selected values for row and column: 0 2\n",
      "[[0 1 0]\n",
      " [0 1 1]\n",
      " [1 0 0]]\n",
      "Choose the box of matrix by providing values of row and column.\n"
     ]
    },
    {
     "name": "stdin",
     "output_type": "stream",
     "text": [
      "Enter the value of row and then column (0-2): 2 0\n"
     ]
    },
    {
     "name": "stdout",
     "output_type": "stream",
     "text": [
      "The selected values for row and column: 2 0\n",
      "[[0 1 0]\n",
      " [1 0 1]\n",
      " [0 1 0]]\n",
      "Choose the box of matrix by providing values of row and column.\n"
     ]
    },
    {
     "name": "stdin",
     "output_type": "stream",
     "text": [
      "Enter the value of row and then column (0-2): 1 1\n"
     ]
    },
    {
     "name": "stdout",
     "output_type": "stream",
     "text": [
      "The selected values for row and column: 1 1\n",
      "The matrix is equal to the final matrix: [[0 0 0]\n",
      " [0 1 0]\n",
      " [0 0 0]]\n",
      "Number of iteration:  6\n"
     ]
    }
   ],
   "source": [
    "#Running a program\n",
    "\n",
    "if selected_matrix.all():\n",
    "    print(\"No matrix has been selected\")\n",
    "else:\n",
    "    print(\"Matrix has been selected\")\n",
    "    game_run(selected_matrix, final_matrix)"
   ]
  },
  {
   "cell_type": "code",
   "execution_count": null,
   "id": "ultimate-times",
   "metadata": {},
   "outputs": [],
   "source": []
  },
  {
   "cell_type": "code",
   "execution_count": null,
   "id": "infrared-impression",
   "metadata": {},
   "outputs": [],
   "source": []
  }
 ],
 "metadata": {
  "kernelspec": {
   "display_name": "Python 3",
   "language": "python",
   "name": "python3"
  },
  "language_info": {
   "codemirror_mode": {
    "name": "ipython",
    "version": 3
   },
   "file_extension": ".py",
   "mimetype": "text/x-python",
   "name": "python",
   "nbconvert_exporter": "python",
   "pygments_lexer": "ipython3",
   "version": "3.8.5"
  }
 },
 "nbformat": 4,
 "nbformat_minor": 5
}
