{
 "cells": [
  {
   "cell_type": "code",
   "execution_count": 1,
   "id": "grand-chuck",
   "metadata": {},
   "outputs": [],
   "source": [
    "#Implementation of Shor's Algorithm\n",
    "import matplotlib.pyplot as plt\n",
    "import numpy as np\n",
    "from qiskit import QuantumCircuit, Aer, transpile, assemble\n",
    "from qiskit.visualization import plot_histogram\n",
    "from math import gcd\n",
    "from numpy.random import randint\n",
    "import pandas as pd\n",
    "from fractions import Fraction"
   ]
  },
  {
   "cell_type": "code",
   "execution_count": 2,
   "id": "cloudy-oregon",
   "metadata": {},
   "outputs": [],
   "source": [
    "def c_amod(a, power):\n",
    "    if a not in [2,5,8,10,11,13,17,19,20]:\n",
    "        raise ValueError(\"'a' must be 2,5,8,10,11,13,17,19 or 20\")\n",
    "    U = QuantumCircuit(4)        \n",
    "    for iteration in range(power):\n",
    "        if a in [2,20]:\n",
    "            U.swap(0,1)\n",
    "            U.swap(1,2)\n",
    "            U.swap(2,3)\n",
    "        if a in [5,19]:\n",
    "            U.swap(2,3)\n",
    "            U.swap(1,2)\n",
    "            U.swap(0,1)\n",
    "        if a == 11:\n",
    "            U.swap(1,3)\n",
    "            U.swap(0,2)\n",
    "        if a in [7,11,13]:\n",
    "            for q in range(4):\n",
    "                U.x(q)\n",
    "    U = U.to_gate()\n",
    "    U.name = \"%i^%i mod 21\" % (a, power)\n",
    "    c_U = U.control()\n",
    "    return c_U"
   ]
  },
  {
   "cell_type": "code",
   "execution_count": 3,
   "id": "involved-tunisia",
   "metadata": {},
   "outputs": [],
   "source": [
    "def qft_dagger(n):\n",
    "    \"\"\"n-qubit QFTdagger the first n qubits in circ\"\"\"\n",
    "    qc = QuantumCircuit(n)\n",
    "    # Don't forget the Swaps!\n",
    "    for qubit in range(n//2):\n",
    "        qc.swap(qubit, n-qubit-1)\n",
    "    for j in range(n):\n",
    "        for m in range(j):\n",
    "            qc.cp(-np.pi/float(2**(j-m)), m, j)\n",
    "        qc.h(j)\n",
    "    qc.name = \"QFT†\"\n",
    "    return qc"
   ]
  },
  {
   "cell_type": "code",
   "execution_count": 8,
   "id": "possible-direction",
   "metadata": {},
   "outputs": [
    {
     "data": {
      "text/html": [
       "<pre style=\"word-wrap: normal;white-space: pre;background: #fff0;line-height: 1.1;font-family: &quot;Courier New&quot;,Courier,monospace\">      ┌───┐                                                                                                                                     ┌───────┐┌─┐                     \n",
       " q_0: ┤ H ├───────■─────────────────────────────────────────────────────────────────────────────────────────────────────────────────────────────┤0      ├┤M├─────────────────────\n",
       "      ├───┤       │                                                                                                                             │       │└╥┘┌─┐                  \n",
       " q_1: ┤ H ├───────┼───────────────■─────────────────────────────────────────────────────────────────────────────────────────────────────────────┤1      ├─╫─┤M├──────────────────\n",
       "      ├───┤       │               │                                                                                                             │       │ ║ └╥┘┌─┐               \n",
       " q_2: ┤ H ├───────┼───────────────┼───────────────■─────────────────────────────────────────────────────────────────────────────────────────────┤2      ├─╫──╫─┤M├───────────────\n",
       "      ├───┤       │               │               │                                                                                             │       │ ║  ║ └╥┘┌─┐            \n",
       " q_3: ┤ H ├───────┼───────────────┼───────────────┼───────────────■─────────────────────────────────────────────────────────────────────────────┤3      ├─╫──╫──╫─┤M├────────────\n",
       "      ├───┤       │               │               │               │                                                                             │  QFT† │ ║  ║  ║ └╥┘┌─┐         \n",
       " q_4: ┤ H ├───────┼───────────────┼───────────────┼───────────────┼────────────────■────────────────────────────────────────────────────────────┤4      ├─╫──╫──╫──╫─┤M├─────────\n",
       "      ├───┤       │               │               │               │                │                                                            │       │ ║  ║  ║  ║ └╥┘┌─┐      \n",
       " q_5: ┤ H ├───────┼───────────────┼───────────────┼───────────────┼────────────────┼────────────────■───────────────────────────────────────────┤5      ├─╫──╫──╫──╫──╫─┤M├──────\n",
       "      ├───┤       │               │               │               │                │                │                                           │       │ ║  ║  ║  ║  ║ └╥┘┌─┐   \n",
       " q_6: ┤ H ├───────┼───────────────┼───────────────┼───────────────┼────────────────┼────────────────┼────────────────■──────────────────────────┤6      ├─╫──╫──╫──╫──╫──╫─┤M├───\n",
       "      ├───┤       │               │               │               │                │                │                │                          │       │ ║  ║  ║  ║  ║  ║ └╥┘┌─┐\n",
       " q_7: ┤ H ├───────┼───────────────┼───────────────┼───────────────┼────────────────┼────────────────┼────────────────┼────────────────■─────────┤7      ├─╫──╫──╫──╫──╫──╫──╫─┤M├\n",
       "      └───┘┌──────┴───────┐┌──────┴───────┐┌──────┴───────┐┌──────┴───────┐┌───────┴───────┐┌───────┴───────┐┌───────┴───────┐┌───────┴────────┐└───────┘ ║  ║  ║  ║  ║  ║  ║ └╥┘\n",
       " q_8: ─────┤0             ├┤0             ├┤0             ├┤0             ├┤0              ├┤0              ├┤0              ├┤0               ├──────────╫──╫──╫──╫──╫──╫──╫──╫─\n",
       "           │              ││              ││              ││              ││               ││               ││               ││                │          ║  ║  ║  ║  ║  ║  ║  ║ \n",
       " q_9: ─────┤1             ├┤1             ├┤1             ├┤1             ├┤1              ├┤1              ├┤1              ├┤1               ├──────────╫──╫──╫──╫──╫──╫──╫──╫─\n",
       "           │  13^1 mod 21 ││  13^2 mod 21 ││  13^4 mod 21 ││  13^8 mod 21 ││  13^16 mod 21 ││  13^32 mod 21 ││  13^64 mod 21 ││  13^128 mod 21 │          ║  ║  ║  ║  ║  ║  ║  ║ \n",
       "q_10: ─────┤2             ├┤2             ├┤2             ├┤2             ├┤2              ├┤2              ├┤2              ├┤2               ├──────────╫──╫──╫──╫──╫──╫──╫──╫─\n",
       "      ┌───┐│              ││              ││              ││              ││               ││               ││               ││                │          ║  ║  ║  ║  ║  ║  ║  ║ \n",
       "q_11: ┤ X ├┤3             ├┤3             ├┤3             ├┤3             ├┤3              ├┤3              ├┤3              ├┤3               ├──────────╫──╫──╫──╫──╫──╫──╫──╫─\n",
       "      └───┘└──────────────┘└──────────────┘└──────────────┘└──────────────┘└───────────────┘└───────────────┘└───────────────┘└────────────────┘          ║  ║  ║  ║  ║  ║  ║  ║ \n",
       " c: 8/════════════════════════════════════════════════════════════════════════════════════════════════════════════════════════════════════════════════════╩══╩══╩══╩══╩══╩══╩══╩═\n",
       "                                                                                                                                                          0  1  2  3  4  5  6  7 </pre>"
      ],
      "text/plain": [
       "      ┌───┐                                                                                                                                     ┌───────┐┌─┐                     \n",
       " q_0: ┤ H ├───────■─────────────────────────────────────────────────────────────────────────────────────────────────────────────────────────────┤0      ├┤M├─────────────────────\n",
       "      ├───┤       │                                                                                                                             │       │└╥┘┌─┐                  \n",
       " q_1: ┤ H ├───────┼───────────────■─────────────────────────────────────────────────────────────────────────────────────────────────────────────┤1      ├─╫─┤M├──────────────────\n",
       "      ├───┤       │               │                                                                                                             │       │ ║ └╥┘┌─┐               \n",
       " q_2: ┤ H ├───────┼───────────────┼───────────────■─────────────────────────────────────────────────────────────────────────────────────────────┤2      ├─╫──╫─┤M├───────────────\n",
       "      ├───┤       │               │               │                                                                                             │       │ ║  ║ └╥┘┌─┐            \n",
       " q_3: ┤ H ├───────┼───────────────┼───────────────┼───────────────■─────────────────────────────────────────────────────────────────────────────┤3      ├─╫──╫──╫─┤M├────────────\n",
       "      ├───┤       │               │               │               │                                                                             │  QFT† │ ║  ║  ║ └╥┘┌─┐         \n",
       " q_4: ┤ H ├───────┼───────────────┼───────────────┼───────────────┼────────────────■────────────────────────────────────────────────────────────┤4      ├─╫──╫──╫──╫─┤M├─────────\n",
       "      ├───┤       │               │               │               │                │                                                            │       │ ║  ║  ║  ║ └╥┘┌─┐      \n",
       " q_5: ┤ H ├───────┼───────────────┼───────────────┼───────────────┼────────────────┼────────────────■───────────────────────────────────────────┤5      ├─╫──╫──╫──╫──╫─┤M├──────\n",
       "      ├───┤       │               │               │               │                │                │                                           │       │ ║  ║  ║  ║  ║ └╥┘┌─┐   \n",
       " q_6: ┤ H ├───────┼───────────────┼───────────────┼───────────────┼────────────────┼────────────────┼────────────────■──────────────────────────┤6      ├─╫──╫──╫──╫──╫──╫─┤M├───\n",
       "      ├───┤       │               │               │               │                │                │                │                          │       │ ║  ║  ║  ║  ║  ║ └╥┘┌─┐\n",
       " q_7: ┤ H ├───────┼───────────────┼───────────────┼───────────────┼────────────────┼────────────────┼────────────────┼────────────────■─────────┤7      ├─╫──╫──╫──╫──╫──╫──╫─┤M├\n",
       "      └───┘┌──────┴───────┐┌──────┴───────┐┌──────┴───────┐┌──────┴───────┐┌───────┴───────┐┌───────┴───────┐┌───────┴───────┐┌───────┴────────┐└───────┘ ║  ║  ║  ║  ║  ║  ║ └╥┘\n",
       " q_8: ─────┤0             ├┤0             ├┤0             ├┤0             ├┤0              ├┤0              ├┤0              ├┤0               ├──────────╫──╫──╫──╫──╫──╫──╫──╫─\n",
       "           │              ││              ││              ││              ││               ││               ││               ││                │          ║  ║  ║  ║  ║  ║  ║  ║ \n",
       " q_9: ─────┤1             ├┤1             ├┤1             ├┤1             ├┤1              ├┤1              ├┤1              ├┤1               ├──────────╫──╫──╫──╫──╫──╫──╫──╫─\n",
       "           │  13^1 mod 21 ││  13^2 mod 21 ││  13^4 mod 21 ││  13^8 mod 21 ││  13^16 mod 21 ││  13^32 mod 21 ││  13^64 mod 21 ││  13^128 mod 21 │          ║  ║  ║  ║  ║  ║  ║  ║ \n",
       "q_10: ─────┤2             ├┤2             ├┤2             ├┤2             ├┤2              ├┤2              ├┤2              ├┤2               ├──────────╫──╫──╫──╫──╫──╫──╫──╫─\n",
       "      ┌───┐│              ││              ││              ││              ││               ││               ││               ││                │          ║  ║  ║  ║  ║  ║  ║  ║ \n",
       "q_11: ┤ X ├┤3             ├┤3             ├┤3             ├┤3             ├┤3              ├┤3              ├┤3              ├┤3               ├──────────╫──╫──╫──╫──╫──╫──╫──╫─\n",
       "      └───┘└──────────────┘└──────────────┘└──────────────┘└──────────────┘└───────────────┘└───────────────┘└───────────────┘└────────────────┘          ║  ║  ║  ║  ║  ║  ║  ║ \n",
       " c: 8/════════════════════════════════════════════════════════════════════════════════════════════════════════════════════════════════════════════════════╩══╩══╩══╩══╩══╩══╩══╩═\n",
       "                                                                                                                                                          0  1  2  3  4  5  6  7 "
      ]
     },
     "execution_count": 8,
     "metadata": {},
     "output_type": "execute_result"
    }
   ],
   "source": [
    "# Create QuantumCircuit with n_count counting qubits\n",
    "# plus 4 qubits for U to act on\n",
    "n_count = 8\n",
    "a = 13\n",
    "\n",
    "qc = QuantumCircuit(n_count + 4, n_count)\n",
    "\n",
    "# Initialize counting qubits\n",
    "# in state |+>\n",
    "for q in range(n_count):\n",
    "    qc.h(q)\n",
    "    \n",
    "# And auxiliary register in state |1>\n",
    "qc.x(3+n_count)\n",
    "\n",
    "# Do controlled-U operations\n",
    "for q in range(n_count):\n",
    "    qc.append(c_amod(a, 2**q), \n",
    "             [q] + [i+n_count for i in range(4)])\n",
    "\n",
    "# Do inverse-QFT\n",
    "qc.append(qft_dagger(n_count), range(n_count))\n",
    "\n",
    "# Measure circuit\n",
    "qc.measure(range(n_count), range(n_count))\n",
    "qc.draw(fold=-1)  # -1 means 'do not fold' "
   ]
  },
  {
   "cell_type": "code",
   "execution_count": 9,
   "id": "bizarre-plumbing",
   "metadata": {},
   "outputs": [
    {
     "data": {
      "image/png": "[encoded data removed]",
      "text/plain": [
       "<Figure size 504x360 with 1 Axes>"
      ]
     },
     "execution_count": 9,
     "metadata": {},
     "output_type": "execute_result"
    }
   ],
   "source": [
    "qasm_sim = Aer.get_backend('qasm_simulator')\n",
    "t_qc = transpile(qc, qasm_sim)\n",
    "qobj = assemble(t_qc)\n",
    "results = qasm_sim.run(qobj).result()\n",
    "counts = results.get_counts()\n",
    "plot_histogram(counts)"
   ]
  },
  {
   "cell_type": "code",
   "execution_count": null,
   "id": "vocational-democracy",
   "metadata": {},
   "outputs": [],
   "source": []
  }
 ],
 "metadata": {
  "kernelspec": {
   "display_name": "Python 3",
   "language": "python",
   "name": "python3"
  },
  "language_info": {
   "codemirror_mode": {
    "name": "ipython",
    "version": 3
   },
   "file_extension": ".py",
   "mimetype": "text/x-python",
   "name": "python",
   "nbconvert_exporter": "python",
   "pygments_lexer": "ipython3",
   "version": "3.8.10"
  }
 },
 "nbformat": 4,
 "nbformat_minor": 5
}
